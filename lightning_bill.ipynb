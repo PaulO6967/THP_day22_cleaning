{
 "cells": [
  {
   "cell_type": "code",
   "execution_count": 1,
   "id": "0113d8a6",
   "metadata": {},
   "outputs": [],
   "source": [
    "import pandas as pd\n",
    "import numpy as np\n",
    "import re\n",
    "import datetime\n",
    "from datetime import timedelta "
   ]
  },
  {
   "cell_type": "raw",
   "id": "28861c9f",
   "metadata": {},
   "source": [
    "1) Le nom d'une antenne a un format bien précis : il est toujours composé de 4 chiffres et de deux lettres. On te demande de retirer tout autre caractère de la colonne \"SITE_NAME\"."
   ]
  },
  {
   "cell_type": "code",
   "execution_count": 2,
   "id": "d0939c07",
   "metadata": {},
   "outputs": [],
   "source": [
    "data = pd.read_csv(\"Invoice_20201220.csv\", sep=\"|\")\n",
    "data[\"SITE_NAME\"] = data[\"SITE_NAME\"].str.extract(r'\\((.*?)\\)')"
   ]
  },
  {
   "cell_type": "raw",
   "id": "bcd202ab",
   "metadata": {},
   "source": [
    "2) On te demande de supprimer la colonne \"INVOICE_NAME\" qui n'apporte rien aux équipes."
   ]
  },
  {
   "cell_type": "code",
   "execution_count": 3,
   "id": "a30ff371",
   "metadata": {},
   "outputs": [],
   "source": [
    "data = data.drop([\"INVOICE_NAME\"], axis=1)"
   ]
  },
  {
   "cell_type": "raw",
   "id": "e60fd947",
   "metadata": {},
   "source": [
    "3) Il y a des antennes pour lesquelles on a des factures mensuelles tandis que pour d'autres, on les reçoit moins régulièrement (trimestre, semestre, année). Ajoute une colonne à ton tableau qui calcule le nombre de jours entre le début de la période de facturation et la fin de la période de facturation."
   ]
  },
  {
   "cell_type": "code",
   "execution_count": 4,
   "id": "26e9059f",
   "metadata": {},
   "outputs": [],
   "source": [
    "data[\"END\"] = pd.to_datetime(data[\"END\"], format='%d/%m/%Y')\n",
    "data[\"BEGIN\"] = pd.to_datetime(data[\"BEGIN\"], format='%d/%m/%Y')\n",
    "data = data.assign(DURATION=data[\"END\"].sub(data[\"BEGIN\"]))\n",
    "data[\"DURATION\"] = data[\"DURATION\"].dt.days"
   ]
  },
  {
   "cell_type": "raw",
   "id": "b434b8fe",
   "metadata": {},
   "source": [
    "4) A partir de cette nouvelle colonne, crée une autre colonne qui nous donne la consommation journalière moyenne de la période."
   ]
  },
  {
   "cell_type": "code",
   "execution_count": 5,
   "id": "4abd1f8e",
   "metadata": {},
   "outputs": [],
   "source": [
    "data = data.assign(MEAN_CONSO_BY_DAY=data[\"KWH_PERIOD\"].str.replace(\" \",\"\").astype(int)/(data[\"DURATION\"]))"
   ]
  },
  {
   "cell_type": "raw",
   "id": "a00ebda4",
   "metadata": {},
   "source": [
    "5) Merci d'ajouter également une colonne qui donne, pour chaque antenne, le nombre de factures dont on dispose au total. Pas grave si l'information se répète à chaque ligne pour une même antenne."
   ]
  },
  {
   "cell_type": "code",
   "execution_count": 13,
   "id": "f9ba5179",
   "metadata": {},
   "outputs": [
    {
     "data": {
      "text/plain": [
       "1600BR    105\n",
       "1089BR     70\n",
       "4060BR     70\n",
       "2079BR     70\n",
       "0038BB     37\n",
       "         ... \n",
       "1326BR      1\n",
       "1341BR      1\n",
       "1347BR      1\n",
       "0670BR      1\n",
       "1203KO      1\n",
       "Name: SITE_NAME, Length: 2403, dtype: int64"
      ]
     },
     "metadata": {},
     "output_type": "display_data"
    }
   ],
   "source": [
    "all_site_number = data[\"SITE_NAME\"].value_counts()\n",
    "data = data.assign(TOTAL_BILL_BY_SITE= data[\"SITE_NAME\"].map(all_site_number))"
   ]
  },
  {
   "cell_type": "raw",
   "id": "2227ede0",
   "metadata": {},
   "source": [
    "6) Et information bonus si tu y arrives : les équipes aimeraient beaucoup avoir une liste de toutes les antennes avec, pour chaque antenne, le coefficient de variation de la consommation. Cela permettra d'avoir une idée, pour chaque antenne, de la dispersion de sa consommation d'énergie."
   ]
  },
  {
   "cell_type": "code",
   "execution_count": 7,
   "id": "c5327a7a",
   "metadata": {},
   "outputs": [
    {
     "data": {
      "text/html": [
       "<div>\n",
       "<style scoped>\n",
       "    .dataframe tbody tr th:only-of-type {\n",
       "        vertical-align: middle;\n",
       "    }\n",
       "\n",
       "    .dataframe tbody tr th {\n",
       "        vertical-align: top;\n",
       "    }\n",
       "\n",
       "    .dataframe thead th {\n",
       "        text-align: right;\n",
       "    }\n",
       "</style>\n",
       "<table border=\"1\" class=\"dataframe\">\n",
       "  <thead>\n",
       "    <tr style=\"text-align: right;\">\n",
       "      <th></th>\n",
       "      <th>SITE_NAME</th>\n",
       "      <th>COV</th>\n",
       "    </tr>\n",
       "  </thead>\n",
       "  <tbody>\n",
       "    <tr>\n",
       "      <th>0</th>\n",
       "      <td>0001BB</td>\n",
       "      <td>0.065117</td>\n",
       "    </tr>\n",
       "    <tr>\n",
       "      <th>35</th>\n",
       "      <td>0001BR</td>\n",
       "      <td>0.049759</td>\n",
       "    </tr>\n",
       "    <tr>\n",
       "      <th>70</th>\n",
       "      <td>0001KO</td>\n",
       "      <td>0.102968</td>\n",
       "    </tr>\n",
       "    <tr>\n",
       "      <th>105</th>\n",
       "      <td>0002BB</td>\n",
       "      <td>0.065880</td>\n",
       "    </tr>\n",
       "    <tr>\n",
       "      <th>140</th>\n",
       "      <td>0002BR</td>\n",
       "      <td>0.082812</td>\n",
       "    </tr>\n",
       "    <tr>\n",
       "      <th>...</th>\n",
       "      <td>...</td>\n",
       "      <td>...</td>\n",
       "    </tr>\n",
       "    <tr>\n",
       "      <th>51423</th>\n",
       "      <td>1486BR</td>\n",
       "      <td>0.000000</td>\n",
       "    </tr>\n",
       "    <tr>\n",
       "      <th>51424</th>\n",
       "      <td>2086BR</td>\n",
       "      <td>0.442294</td>\n",
       "    </tr>\n",
       "    <tr>\n",
       "      <th>51426</th>\n",
       "      <td>1179BB</td>\n",
       "      <td>0.000000</td>\n",
       "    </tr>\n",
       "    <tr>\n",
       "      <th>51427</th>\n",
       "      <td>0632KO</td>\n",
       "      <td>0.011349</td>\n",
       "    </tr>\n",
       "    <tr>\n",
       "      <th>51431</th>\n",
       "      <td>1203KO</td>\n",
       "      <td>0.000000</td>\n",
       "    </tr>\n",
       "  </tbody>\n",
       "</table>\n",
       "<p>2403 rows × 2 columns</p>\n",
       "</div>"
      ],
      "text/plain": [
       "      SITE_NAME       COV\n",
       "0        0001BB  0.065117\n",
       "35       0001BR  0.049759\n",
       "70       0001KO  0.102968\n",
       "105      0002BB  0.065880\n",
       "140      0002BR  0.082812\n",
       "...         ...       ...\n",
       "51423    1486BR  0.000000\n",
       "51424    2086BR  0.442294\n",
       "51426    1179BB  0.000000\n",
       "51427    0632KO  0.011349\n",
       "51431    1203KO  0.000000\n",
       "\n",
       "[2403 rows x 2 columns]"
      ]
     },
     "metadata": {},
     "output_type": "display_data"
    }
   ],
   "source": [
    "site_name_mean_list = data.groupby(\"SITE_NAME\")[\"MEAN_CONSO_BY_DAY\"].mean()\n",
    "site_name_sigma_list = data.groupby(\"SITE_NAME\")[\"MEAN_CONSO_BY_DAY\"].std(ddof=0)\n",
    "site_name_df = data[\"SITE_NAME\"].to_frame().drop_duplicates()\n",
    "site_name_df = site_name_df.assign(MEAN_BY_SITE=site_name_df[\"SITE_NAME\"].map(site_name_mean_list))\n",
    "site_name_df = site_name_df.assign(STD_BY_SITE=site_name_df[\"SITE_NAME\"].map(site_name_sigma_list))\n",
    "site_name_df = site_name_df.assign(COV= site_name_df[\"STD_BY_SITE\"] / site_name_df[\"MEAN_BY_SITE\"])\n",
    "site_name_df = site_name_df.drop([\"MEAN_BY_SITE\", \"STD_BY_SITE\"], axis = 1)\n",
    "display(site_name_df)"
   ]
  },
  {
   "cell_type": "code",
   "execution_count": 196,
   "id": "eb1f1618",
   "metadata": {},
   "outputs": [],
   "source": [
    "data.to_csv(\"./data.csv\")\n",
    "site_name_df.to_csv(\"./site_name_df.csv\")"
   ]
  },
  {
   "cell_type": "code",
   "execution_count": null,
   "id": "2175d8b0",
   "metadata": {},
   "outputs": [],
   "source": []
  }
 ],
 "metadata": {
  "kernelspec": {
   "display_name": "Python 3 (ipykernel)",
   "language": "python",
   "name": "python3"
  },
  "language_info": {
   "codemirror_mode": {
    "name": "ipython",
    "version": 3
   },
   "file_extension": ".py",
   "mimetype": "text/x-python",
   "name": "python",
   "nbconvert_exporter": "python",
   "pygments_lexer": "ipython3",
   "version": "3.11.3"
  }
 },
 "nbformat": 4,
 "nbformat_minor": 5
}
